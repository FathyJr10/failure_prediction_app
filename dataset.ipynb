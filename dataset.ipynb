{
 "cells": [
  {
   "cell_type": "markdown",
   "metadata": {},
   "source": [
    "Creating the equipment dataset \n"
   ]
  },
  {
   "cell_type": "code",
   "execution_count": 19,
   "metadata": {},
   "outputs": [],
   "source": [
    "import pandas as pd\n",
    "import numpy as np"
   ]
  },
  {
   "cell_type": "code",
   "execution_count": 20,
   "metadata": {},
   "outputs": [],
   "source": [
    "# Set random seed for reproducibility\n",
    "np.random.seed(42)\n",
    "\n",
    "# Number of samples\n",
    "n_samples = 1000"
   ]
  },
  {
   "cell_type": "code",
   "execution_count": 21,
   "metadata": {},
   "outputs": [],
   "source": [
    "# Simulate feature data\n",
    "operating_hours = np.random.randint(500, 10000, n_samples)  # Hours of operation\n",
    "temperature = np.random.uniform(20, 80, n_samples)  # Temperature in degrees Celsius\n",
    "humidity = np.random.uniform(30, 80, n_samples)  # Humidity percentage\n",
    "time_since_last_maintenance = np.random.randint(1, 365, n_samples)  # Days since last maintenance"
   ]
  },
  {
   "cell_type": "code",
   "execution_count": 22,
   "metadata": {},
   "outputs": [],
   "source": [
    "# Simulate failure (binary outcome: 1 = failure, 0 = no failure)\n",
    "failure = np.random.choice([0, 1], size=n_samples, p=[0.85, 0.15])  # 15% failure rate\n"
   ]
  },
  {
   "cell_type": "code",
   "execution_count": 23,
   "metadata": {},
   "outputs": [],
   "source": [
    "# Create a DataFrame\n",
    "data = pd.DataFrame({\n",
    "    'operating_hours': operating_hours,\n",
    "    'temperature': temperature,\n",
    "    'humidity': humidity,\n",
    "    'time_since_last_maintenance': time_since_last_maintenance,\n",
    "    'failure': failure\n",
    "})"
   ]
  },
  {
   "cell_type": "code",
   "execution_count": 24,
   "metadata": {},
   "outputs": [
    {
     "data": {
      "text/plain": [
       "'equipment_data.csv'"
      ]
     },
     "execution_count": 24,
     "metadata": {},
     "output_type": "execute_result"
    }
   ],
   "source": [
    "# Save the dataset to a CSV file\n",
    "dataset_path = 'equipment_data.csv'\n",
    "data.to_csv(dataset_path, index=False)\n",
    "\n",
    "dataset_path"
   ]
  }
 ],
 "metadata": {
  "kernelspec": {
   "display_name": "Python 3",
   "language": "python",
   "name": "python3"
  },
  "language_info": {
   "codemirror_mode": {
    "name": "ipython",
    "version": 3
   },
   "file_extension": ".py",
   "mimetype": "text/x-python",
   "name": "python",
   "nbconvert_exporter": "python",
   "pygments_lexer": "ipython3",
   "version": "3.11.9"
  }
 },
 "nbformat": 4,
 "nbformat_minor": 2
}
